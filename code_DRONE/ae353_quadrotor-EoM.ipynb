{
 "cells": [
  {
   "cell_type": "markdown",
   "id": "e3886960-f81b-4f1f-a3ba-1936bd4d38bf",
   "metadata": {},
   "source": [
    "# Derive the Dynamics and Sensor Model"
   ]
  },
  {
   "cell_type": "markdown",
   "id": "db0b7697-ca4c-4bdf-beae-8ea7fba075a8",
   "metadata": {},
   "source": [
    "## Derive Dynamics Model"
   ]
  },
  {
   "cell_type": "markdown",
   "id": "82d2ac54-2967-4b25-b796-d7407e0069b7",
   "metadata": {},
   "source": [
    "Import all packages used to derive the equations of motion of the system"
   ]
  },
  {
   "cell_type": "code",
   "execution_count": 22,
   "id": "fe651b6e-8b12-40cf-948f-e462d5218677",
   "metadata": {},
   "outputs": [],
   "source": [
    "import sympy as sym\n",
    "import numpy as np\n",
    "sym.init_printing()"
   ]
  },
  {
   "cell_type": "markdown",
   "id": "c8e86f19-05bd-4ddb-9211-967624cd7e62",
   "metadata": {},
   "source": [
    "First we need to find the value of the acceleration due to gravity on the planet on which the quadrotor is operating. We can do this using a function provided by the ae353_quadrotor module. You must select from one of the following planets: \"Mercury\", \"Venus\", \"Earth\", \"Moon\", \"Mars\", \"Jupiter\", \"Saturn\", \"Uranus\", \"Neptune\", \"Pluto\"."
   ]
  },
  {
   "cell_type": "code",
   "execution_count": 24,
   "id": "91dbdad2-6c0c-4a76-95e4-7d22f855681c",
   "metadata": {},
   "outputs": [],
   "source": [
    "# Get the gravity in m/s^2\n",
    "from ae353_quadrotor import get_gravity\n",
    "planet = \"Earth\"\n",
    "grav = get_gravity(planet, verbose=True)"
   ]
  },
  {
   "cell_type": "markdown",
   "id": "a7e955d8-80b3-4552-b4b3-26019477a5de",
   "metadata": {},
   "source": [
    "Define all the system constants (system parameters)"
   ]
  },
  {
   "cell_type": "code",
   "execution_count": 25,
   "id": "afb8105a-c786-4aba-8462-0aef72d3b393",
   "metadata": {},
   "outputs": [],
   "source": [
    "# Mass and moment of inertia of the bus\n",
    "mass = 0.5    # The mass of the quadrotor in kg\n",
    "Ixx = 0.0023  # The moment of inertia of the quadrotor in \n",
    "Iyy = 0.0023  # The mass of the quadrotor in kg\n",
    "Izz = 0.0040  # The mass of the quadrotor in kg\n",
    "lxy = 0.25    # The x or y distance from the quadrotor frame to the mocap markers in meters\n",
    "lz = 0.046875 # The z distance from the quadrotor frame to the mocap markers in meters"
   ]
  },
  {
   "cell_type": "markdown",
   "id": "a9f96b92-95c3-4a0e-b2f6-821fb6f55cab",
   "metadata": {},
   "source": [
    "Generate the symbols that define the state of the quadrotor. Also, create the rotation matrices that define the orientation of the quadrotor in the world coordinate system."
   ]
  },
  {
   "cell_type": "code",
   "execution_count": 26,
   "id": "2c8a2957-47a2-477c-99d5-3a88d11955f4",
   "metadata": {},
   "outputs": [],
   "source": [
    "# Define position\n",
    "px_inW, py_inW, pz_inW = sym.symbols('p_x, p_y, p_z')\n",
    "p_inW = sym.Matrix([[px_inW],\n",
    "                    [py_inW],\n",
    "                    [pz_inW]])\n",
    "\n",
    "# Define velocity\n",
    "vx_inB, vy_inB, vz_inB = sym.symbols('v_x, v_y, v_z')\n",
    "v_inB = sym.Matrix([[vx_inB],\n",
    "                    [vy_inB],\n",
    "                    [vz_inB]])\n",
    "\n",
    "# Define roll (phi), pitch (theta), and yaw (psi) angles\n",
    "phi, theta, psi = sym.symbols('phi, theta, psi')\n",
    "\n",
    "# Define angular velocities\n",
    "wx_inB, wy_inB, wz_inB = sym.symbols('omega_x, omega_y, omega_z')\n",
    "w_inB = sym.Matrix([[wx_inB],\n",
    "                    [wy_inB],\n",
    "                    [wz_inB]])\n",
    "\n",
    "# Define roll, pitch, and yaw rotation matrices that describe the bus's orientation in the \n",
    "# world frame\n",
    "Rx = sym.Matrix([[1,            0,             0],\n",
    "                 [0, sym.cos(phi), -sym.sin(phi)],\n",
    "                 [0, sym.sin(phi),  sym.cos(phi)]])\n",
    "Ry = sym.Matrix([[ sym.cos(theta), 0, sym.sin(theta)],\n",
    "                 [              0, 1,              0],\n",
    "                 [-sym.sin(theta), 0, sym.cos(theta)]])\n",
    "Rz = sym.Matrix([[sym.cos(psi), -sym.sin(psi), 0],\n",
    "                 [sym.sin(psi),  sym.cos(psi), 0],\n",
    "                 [           0,             0, 1]])\n",
    "R_ofB_inW = Rz @ Ry @ Rx\n",
    "R_ofW_inB = R_ofB_inW.T"
   ]
  },
  {
   "cell_type": "markdown",
   "id": "c84a464f-6897-40fb-bda9-eed0689da7cf",
   "metadata": {},
   "source": [
    "Generate the symbols that define the input to the system. Also sum the together to get the net torque vector and force vector."
   ]
  },
  {
   "cell_type": "code",
   "execution_count": 27,
   "id": "df8cebdf-1af4-409a-b233-621dafa7b950",
   "metadata": {},
   "outputs": [],
   "source": [
    "# Define inputs\n",
    "taux_inB, tauy_inB, tauz_inB, fz_inB = sym.symbols('tau_x, tau_y, tau_z, f_z')\n",
    "\n",
    "# Get the net torque vector\n",
    "tau_inB = sym.Matrix([[taux_inB],\n",
    "                      [tauy_inB],\n",
    "                      [tauz_inB]])\n",
    "tau_inB = sym.simplify(tau_inB)\n",
    "\n",
    "# Get the gravity force and convert to body coordiantes\n",
    "grav_inW = sym.Matrix([[0.],\n",
    "                       [0.],\n",
    "                       [-mass * grav]])\n",
    "grav_inB = R_ofW_inB @ grav_inW\n",
    "\n",
    "# Get the net force vector\n",
    "f_inB = grav_inB + sym.Matrix([[0.],\n",
    "                               [0.],\n",
    "                               [fz_inB]])\n",
    "f_inB = sym.simplify(f_inB)"
   ]
  },
  {
   "cell_type": "markdown",
   "id": "26ff798d-de91-43e3-84f5-8a3688205879",
   "metadata": {},
   "source": [
    "Next we assemble the moment of inertia tensor."
   ]
  },
  {
   "cell_type": "code",
   "execution_count": 12,
   "id": "c133adfd-4cc6-4786-aae7-95c6371c0367",
   "metadata": {},
   "outputs": [],
   "source": [
    "# Assemble the moment of inertia matrix\n",
    "I_inB = sym.Matrix([[Ixx, 0.,  0.],\n",
    "                    [0.,  Iyy, 0.],\n",
    "                    [0.,  0.,  Izz]])"
   ]
  },
  {
   "cell_type": "markdown",
   "id": "2d42bed4-f880-4815-9c8a-469cd0bd56b8",
   "metadata": {},
   "source": [
    "Convert the body-fixed velocity to world-fixed velocity to get the derivatives of position."
   ]
  },
  {
   "cell_type": "code",
   "execution_count": 13,
   "id": "7057edc6-7233-4ffd-9424-95db56628f7f",
   "metadata": {},
   "outputs": [
    {
     "name": "stdout",
     "output_type": "stream",
     "text": [
      "px, py, pz rate as a function of orientation and body-fixed velocities:\n"
     ]
    },
    {
     "data": {
      "text/latex": [
       "$\\displaystyle \\left[\\begin{matrix}v_{x} \\cos{\\left(\\psi \\right)} \\cos{\\left(\\theta \\right)} + v_{y} \\left(\\sin{\\left(\\phi \\right)} \\sin{\\left(\\theta \\right)} \\cos{\\left(\\psi \\right)} - \\sin{\\left(\\psi \\right)} \\cos{\\left(\\phi \\right)}\\right) + v_{z} \\left(\\sin{\\left(\\phi \\right)} \\sin{\\left(\\psi \\right)} + \\sin{\\left(\\theta \\right)} \\cos{\\left(\\phi \\right)} \\cos{\\left(\\psi \\right)}\\right)\\\\v_{x} \\sin{\\left(\\psi \\right)} \\cos{\\left(\\theta \\right)} + v_{y} \\left(\\sin{\\left(\\phi \\right)} \\sin{\\left(\\psi \\right)} \\sin{\\left(\\theta \\right)} + \\cos{\\left(\\phi \\right)} \\cos{\\left(\\psi \\right)}\\right) - v_{z} \\left(\\sin{\\left(\\phi \\right)} \\cos{\\left(\\psi \\right)} - \\sin{\\left(\\psi \\right)} \\sin{\\left(\\theta \\right)} \\cos{\\left(\\phi \\right)}\\right)\\\\- v_{x} \\sin{\\left(\\theta \\right)} + v_{y} \\sin{\\left(\\phi \\right)} \\cos{\\left(\\theta \\right)} + v_{z} \\cos{\\left(\\phi \\right)} \\cos{\\left(\\theta \\right)}\\end{matrix}\\right]$"
      ],
      "text/plain": [
       "⎡vₓ⋅cos(ψ)⋅cos(θ) + v_y⋅(sin(φ)⋅sin(θ)⋅cos(ψ) - sin(ψ)⋅cos(φ)) + v_z⋅(sin(φ)⋅s ↪\n",
       "⎢                                                                              ↪\n",
       "⎢vₓ⋅sin(ψ)⋅cos(θ) + v_y⋅(sin(φ)⋅sin(ψ)⋅sin(θ) + cos(φ)⋅cos(ψ)) - v_z⋅(sin(φ)⋅c ↪\n",
       "⎢                                                                              ↪\n",
       "⎣                            -vₓ⋅sin(θ) + v_y⋅sin(φ)⋅cos(θ) + v_z⋅cos(φ)⋅cos(θ ↪\n",
       "\n",
       "↪ in(ψ) + sin(θ)⋅cos(φ)⋅cos(ψ))⎤\n",
       "↪                              ⎥\n",
       "↪ os(ψ) - sin(ψ)⋅sin(θ)⋅cos(φ))⎥\n",
       "↪                              ⎥\n",
       "↪ )                            ⎦"
      ]
     },
     "execution_count": 13,
     "metadata": {},
     "output_type": "execute_result"
    }
   ],
   "source": [
    "v_inW = R_ofB_inW @ v_inB\n",
    "xyz_dot = sym.simplify(v_inW)\n",
    "print(\"px, py, pz rate as a function of orientation and body-fixed velocities:\")\n",
    "sym.N(xyz_dot,3)"
   ]
  },
  {
   "cell_type": "markdown",
   "id": "1e079c03-c0c5-4f28-8606-51cfea24f2be",
   "metadata": {},
   "source": [
    "Apply [Newton's second law in a rotating frame](https://en.wikipedia.org/wiki/Rotating_reference_frame) to get the derivative of the velocity in body-fixed coordinates."
   ]
  },
  {
   "cell_type": "code",
   "execution_count": 14,
   "id": "f0960d90-7fc2-4ee9-a703-405dc1594b85",
   "metadata": {},
   "outputs": [
    {
     "name": "stdout",
     "output_type": "stream",
     "text": [
      "Body-fixed velocity rates as a function of orientation, body-fixed velocities, and applied forces:\n"
     ]
    },
    {
     "data": {
      "text/latex": [
       "$\\displaystyle \\left[\\begin{matrix}- 1.0 \\omega_{y} v_{z} + 1.0 \\omega_{z} v_{y} + 9.81 \\sin{\\left(\\theta \\right)}\\\\1.0 \\omega_{x} v_{z} - 1.0 \\omega_{z} v_{x} - 9.81 \\sin{\\left(\\phi \\right)} \\cos{\\left(\\theta \\right)}\\\\2.0 f_{z} - 1.0 \\omega_{x} v_{y} + 1.0 \\omega_{y} v_{x} - 9.81 \\cos{\\left(\\phi \\right)} \\cos{\\left(\\theta \\right)}\\end{matrix}\\right]$"
      ],
      "text/plain": [
       "⎡       -1.0⋅ω_y⋅v_z + 1.0⋅ω_z⋅v_y + 9.81⋅sin(θ)       ⎤\n",
       "⎢                                                      ⎥\n",
       "⎢     1.0⋅ωₓ⋅v_z - 1.0⋅ω_z⋅vₓ - 9.81⋅sin(φ)⋅cos(θ)     ⎥\n",
       "⎢                                                      ⎥\n",
       "⎣2.0⋅f_z - 1.0⋅ωₓ⋅v_y + 1.0⋅ω_y⋅vₓ - 9.81⋅cos(φ)⋅cos(θ)⎦"
      ]
     },
     "execution_count": 14,
     "metadata": {},
     "output_type": "execute_result"
    }
   ],
   "source": [
    "v_inB_dot = (1 / mass) * (f_inB - w_inB.cross(mass * v_inB))\n",
    "v_inB_dot = sym.simplify(v_inB_dot)\n",
    "print(\"Body-fixed velocity rates as a function of orientation, body-fixed velocities, and applied forces:\")\n",
    "sym.N(v_inB_dot,3)"
   ]
  },
  {
   "cell_type": "markdown",
   "id": "1f9e7bbc-e177-4c70-be7c-ec5bcca120e9",
   "metadata": {},
   "source": [
    "Calculate the roll, pitch, and yaw rates as a function of the orientation and body-fixed angular rates."
   ]
  },
  {
   "cell_type": "code",
   "execution_count": 15,
   "id": "c3d1766b-f744-4cba-b4bb-fa42ded0549a",
   "metadata": {},
   "outputs": [
    {
     "name": "stdout",
     "output_type": "stream",
     "text": [
      "Roll, pitch, and yaw rate as a function of orientation and body-fixed angular rates:\n"
     ]
    },
    {
     "data": {
      "text/latex": [
       "$\\displaystyle \\left[\\begin{matrix}\\omega_{x} + \\omega_{y} \\sin{\\left(\\phi \\right)} \\tan{\\left(\\theta \\right)} + \\omega_{z} \\cos{\\left(\\phi \\right)} \\tan{\\left(\\theta \\right)}\\\\\\omega_{y} \\cos{\\left(\\phi \\right)} - \\omega_{z} \\sin{\\left(\\phi \\right)}\\\\\\frac{\\omega_{y} \\sin{\\left(\\phi \\right)} + \\omega_{z} \\cos{\\left(\\phi \\right)}}{\\cos{\\left(\\theta \\right)}}\\end{matrix}\\right]$"
      ],
      "text/plain": [
       "⎡ωₓ + ω_y⋅sin(φ)⋅tan(θ) + ω_z⋅cos(φ)⋅tan(θ)⎤\n",
       "⎢                                          ⎥\n",
       "⎢         ω_y⋅cos(φ) - ω_z⋅sin(φ)          ⎥\n",
       "⎢                                          ⎥\n",
       "⎢         ω_y⋅sin(φ) + ω_z⋅cos(φ)          ⎥\n",
       "⎢         ───────────────────────          ⎥\n",
       "⎣                 cos(θ)                   ⎦"
      ]
     },
     "execution_count": 15,
     "metadata": {},
     "output_type": "execute_result"
    }
   ],
   "source": [
    "# Define the transformation that takes roll, pitch, and yaw rates to body-fixed angular rates\n",
    "ex = sym.Matrix([[1], [0], [0]])\n",
    "ey = sym.Matrix([[0], [1], [0]])\n",
    "ez = sym.Matrix([[0], [0], [1]])\n",
    "M = sym.Matrix.hstack(ex, Rx.T@ey, (Ry@Rx).T@ez)\n",
    "\n",
    "# Invert the transformation to get a matrix that takes body-fixed angular rates to \n",
    "# roll, pitch, and yaw rates\n",
    "M_inv = sym.simplify(M.inv())\n",
    "\n",
    "# Convert the body-fixed angular rates to roll, pitch, and yaw rates\n",
    "rpy_dot = sym.simplify(M_inv@w_inB)\n",
    "print(\"Roll, pitch, and yaw rate as a function of orientation and body-fixed angular rates:\")\n",
    "sym.N(rpy_dot,3)"
   ]
  },
  {
   "cell_type": "markdown",
   "id": "fe9f4ce0-3750-4255-b076-6b5c2815b648",
   "metadata": {},
   "source": [
    "Use [Euler's Equations](https://en.wikipedia.org/wiki/Euler%27s_equations_(rigid_body_dynamics)) to generate the equations of motion that relate angular velocity to input torque."
   ]
  },
  {
   "cell_type": "code",
   "execution_count": 16,
   "id": "ea4edb3d-fe4c-4e79-ba3d-2fd1b7de04d1",
   "metadata": {},
   "outputs": [
    {
     "name": "stdout",
     "output_type": "stream",
     "text": [
      "Time derivative of the angular velocities in the body-fixed frame:\n"
     ]
    },
    {
     "data": {
      "text/latex": [
       "$\\displaystyle \\left[\\begin{matrix}- 0.739 \\omega_{y} \\omega_{z} + 435.0 \\tau_{x}\\\\0.739 \\omega_{x} \\omega_{z} + 435.0 \\tau_{y}\\\\250.0 \\tau_{z}\\end{matrix}\\right]$"
      ],
      "text/plain": [
       "⎡-0.739⋅ω_y⋅ω_z + 435.0⋅τₓ⎤\n",
       "⎢                         ⎥\n",
       "⎢0.739⋅ωₓ⋅ω_z + 435.0⋅τ_y ⎥\n",
       "⎢                         ⎥\n",
       "⎣        250.0⋅τ_z        ⎦"
      ]
     },
     "execution_count": 16,
     "metadata": {},
     "output_type": "execute_result"
    }
   ],
   "source": [
    "# Apply Euler's equation to get the time derivative of the angular velocities of the\n",
    "# quadrotor in the quadrotor frame\n",
    "w_inB_dot = I_inB.inv() @ (tau_inB - w_inB.cross(I_inB@w_inB))\n",
    "w_inB_dot = sym.simplify(w_inB_dot)\n",
    "print(\"Time derivative of the angular velocities in the body-fixed frame:\")\n",
    "sym.N(w_inB_dot, 3)"
   ]
  },
  {
   "cell_type": "markdown",
   "id": "098600eb-4770-4883-9fd0-d0a7bd1c8f71",
   "metadata": {},
   "source": [
    "Assemble all differential equations."
   ]
  },
  {
   "cell_type": "code",
   "execution_count": 17,
   "id": "747382aa-5a34-4e8a-92a7-fd98d037be51",
   "metadata": {},
   "outputs": [],
   "source": [
    "f = sym.Matrix.vstack(xyz_dot,\n",
    "                      v_inB_dot,\n",
    "                      rpy_dot,\n",
    "                      w_inB_dot)"
   ]
  },
  {
   "cell_type": "markdown",
   "id": "1f3dd427-077c-4984-9929-31c8c7a3ca38",
   "metadata": {},
   "source": [
    "The equations of motion have this form:\n",
    "\n",
    "$$\\begin{bmatrix} \\dot{p_x} \\\\ \\dot{p_y} \\\\ \\dot{p_z} \\\\ \\dot{v_x} \\\\ \\dot{v_y} \\\\ \\dot{v_z} \\\\ \\dot{\\phi} \\\\ \\dot{\\theta} \\\\ \\dot{\\psi} \\\\ \\dot{\\omega_x} \\\\ \\dot{\\omega_y} \\\\ \\dot{\\omega_z} \\end{bmatrix}=f\\left(p_x, p_y, p_z, v_x, v_y, v_z, \\phi, \\theta, \\psi, \\omega_x, \\omega_y, \\omega_z, \\tau_x, \\tau_y, \\tau_z, f_z\\right)$$\n",
    "\n",
    "Here is the function $f$:"
   ]
  },
  {
   "cell_type": "code",
   "execution_count": 29,
   "id": "d9f95ec9-94a8-430c-b1d9-a4ac192c88ba",
   "metadata": {},
   "outputs": [
    {
     "data": {
      "text/latex": [
       "$\\displaystyle \\left[\\begin{matrix}v_{x} \\cos{\\left(\\psi \\right)} \\cos{\\left(\\theta \\right)} + v_{y} \\left(\\sin{\\left(\\phi \\right)} \\sin{\\left(\\theta \\right)} \\cos{\\left(\\psi \\right)} - \\sin{\\left(\\psi \\right)} \\cos{\\left(\\phi \\right)}\\right) + v_{z} \\left(\\sin{\\left(\\phi \\right)} \\sin{\\left(\\psi \\right)} + \\sin{\\left(\\theta \\right)} \\cos{\\left(\\phi \\right)} \\cos{\\left(\\psi \\right)}\\right)\\\\v_{x} \\sin{\\left(\\psi \\right)} \\cos{\\left(\\theta \\right)} + v_{y} \\left(\\sin{\\left(\\phi \\right)} \\sin{\\left(\\psi \\right)} \\sin{\\left(\\theta \\right)} + \\cos{\\left(\\phi \\right)} \\cos{\\left(\\psi \\right)}\\right) - v_{z} \\left(\\sin{\\left(\\phi \\right)} \\cos{\\left(\\psi \\right)} - \\sin{\\left(\\psi \\right)} \\sin{\\left(\\theta \\right)} \\cos{\\left(\\phi \\right)}\\right)\\\\- v_{x} \\sin{\\left(\\theta \\right)} + v_{y} \\sin{\\left(\\phi \\right)} \\cos{\\left(\\theta \\right)} + v_{z} \\cos{\\left(\\phi \\right)} \\cos{\\left(\\theta \\right)}\\\\- 1.0 \\omega_{y} v_{z} + 1.0 \\omega_{z} v_{y} + 9.81 \\sin{\\left(\\theta \\right)}\\\\1.0 \\omega_{x} v_{z} - 1.0 \\omega_{z} v_{x} - 9.81 \\sin{\\left(\\phi \\right)} \\cos{\\left(\\theta \\right)}\\\\2.0 f_{z} - 1.0 \\omega_{x} v_{y} + 1.0 \\omega_{y} v_{x} - 9.81 \\cos{\\left(\\phi \\right)} \\cos{\\left(\\theta \\right)}\\\\\\omega_{x} + \\omega_{y} \\sin{\\left(\\phi \\right)} \\tan{\\left(\\theta \\right)} + \\omega_{z} \\cos{\\left(\\phi \\right)} \\tan{\\left(\\theta \\right)}\\\\\\omega_{y} \\cos{\\left(\\phi \\right)} - \\omega_{z} \\sin{\\left(\\phi \\right)}\\\\\\frac{\\omega_{y} \\sin{\\left(\\phi \\right)} + \\omega_{z} \\cos{\\left(\\phi \\right)}}{\\cos{\\left(\\theta \\right)}}\\\\- 0.739 \\omega_{y} \\omega_{z} + 435.0 \\tau_{x}\\\\0.739 \\omega_{x} \\omega_{z} + 435.0 \\tau_{y}\\\\250.0 \\tau_{z}\\end{matrix}\\right]$"
      ],
      "text/plain": [
       "⎡vₓ⋅cos(ψ)⋅cos(θ) + v_y⋅(sin(φ)⋅sin(θ)⋅cos(ψ) - sin(ψ)⋅cos(φ)) + v_z⋅(sin(φ)⋅s ↪\n",
       "⎢                                                                              ↪\n",
       "⎢vₓ⋅sin(ψ)⋅cos(θ) + v_y⋅(sin(φ)⋅sin(ψ)⋅sin(θ) + cos(φ)⋅cos(ψ)) - v_z⋅(sin(φ)⋅c ↪\n",
       "⎢                                                                              ↪\n",
       "⎢                            -vₓ⋅sin(θ) + v_y⋅sin(φ)⋅cos(θ) + v_z⋅cos(φ)⋅cos(θ ↪\n",
       "⎢                                                                              ↪\n",
       "⎢                                 -1.0⋅ω_y⋅v_z + 1.0⋅ω_z⋅v_y + 9.81⋅sin(θ)     ↪\n",
       "⎢                                                                              ↪\n",
       "⎢                               1.0⋅ωₓ⋅v_z - 1.0⋅ω_z⋅vₓ - 9.81⋅sin(φ)⋅cos(θ)   ↪\n",
       "⎢                                                                              ↪\n",
       "⎢                          2.0⋅f_z - 1.0⋅ωₓ⋅v_y + 1.0⋅ω_y⋅vₓ - 9.81⋅cos(φ)⋅cos ↪\n",
       "⎢                                                                              ↪\n",
       "⎢                                ωₓ + ω_y⋅sin(φ)⋅tan(θ) + ω_z⋅cos(φ)⋅tan(θ)    ↪\n",
       "⎢                                                                              ↪\n",
       "⎢                                         ω_y⋅cos(φ) - ω_z⋅sin(φ)              ↪\n",
       "⎢                                                                              ↪\n",
       "⎢                                         ω_y⋅sin(φ) + ω_z⋅cos(φ)              ↪\n",
       "⎢                                         ───────────────────────              ↪\n",
       "⎢                                                 cos(θ)                       ↪\n",
       "⎢                                                                              ↪\n",
       "⎢                                        -0.739⋅ω_y⋅ω_z + 435.0⋅τₓ             ↪\n",
       "⎢                                                                              ↪\n",
       "⎢                                         0.739⋅ωₓ⋅ω_z + 435.0⋅τ_y             ↪\n",
       "⎢                                                                              ↪\n",
       "⎣                                                250.0⋅τ_z                     ↪\n",
       "\n",
       "↪ in(ψ) + sin(θ)⋅cos(φ)⋅cos(ψ))⎤\n",
       "↪                              ⎥\n",
       "↪ os(ψ) - sin(ψ)⋅sin(θ)⋅cos(φ))⎥\n",
       "↪                              ⎥\n",
       "↪ )                            ⎥\n",
       "↪                              ⎥\n",
       "↪                              ⎥\n",
       "↪                              ⎥\n",
       "↪                              ⎥\n",
       "↪                              ⎥\n",
       "↪ (θ)                          ⎥\n",
       "↪                              ⎥\n",
       "↪                              ⎥\n",
       "↪                              ⎥\n",
       "↪                              ⎥\n",
       "↪                              ⎥\n",
       "↪                              ⎥\n",
       "↪                              ⎥\n",
       "↪                              ⎥\n",
       "↪                              ⎥\n",
       "↪                              ⎥\n",
       "↪                              ⎥\n",
       "↪                              ⎥\n",
       "↪                              ⎥\n",
       "↪                              ⎦"
      ]
     },
     "execution_count": 29,
     "metadata": {},
     "output_type": "execute_result"
    }
   ],
   "source": [
    "sym.N(f,3)"
   ]
  },
  {
   "cell_type": "markdown",
   "id": "ea6edc75-5efb-4cd9-bac3-e1a30f2afbec",
   "metadata": {},
   "source": [
    "## Derive Sensor Model"
   ]
  },
  {
   "cell_type": "markdown",
   "id": "d24e9a0d-7d01-41b4-a5fa-001ebb972ee8",
   "metadata": {},
   "source": [
    "Here we will develope the system of equations that relates the sensed states to the states used in the system dynamics. We start by defining where each mocap marker is relative to the body-fixed coordinate frame origin."
   ]
  },
  {
   "cell_type": "code",
   "execution_count": 19,
   "id": "a1724f5f-0470-4e0c-b6dc-50f158561ca5",
   "metadata": {},
   "outputs": [],
   "source": [
    "# Position of markers in body frame\n",
    "mark1_inB = sym.Matrix([[lxy],\n",
    "                        [0.],\n",
    "                        [lz]])\n",
    "mark2_inB = sym.Matrix([[0.],\n",
    "                        [lxy],\n",
    "                        [lz]])\n",
    "mark3_inB = sym.Matrix([[-lxy],\n",
    "                        [0.],\n",
    "                        [lz]])\n",
    "mark4_inB = sym.Matrix([[0.],\n",
    "                        [-lxy],\n",
    "                        [lz]])\n",
    "\n",
    "# Position of markers in world frame\n",
    "mark1_inW = p_inW + R_ofB_inW @ mark1_inB\n",
    "mark2_inW = p_inW + R_ofB_inW @ mark2_inB\n",
    "mark3_inW = p_inW + R_ofB_inW @ mark3_inB\n",
    "mark4_inW = p_inW + R_ofB_inW @ mark4_inB\n",
    "\n",
    "# Sensor model\n",
    "g = sym.simplify(sym.Matrix.vstack(mark1_inW, mark2_inW, mark3_inW, mark4_inW))"
   ]
  },
  {
   "cell_type": "markdown",
   "id": "0386b7ba-daa9-496d-9619-165487f34b3b",
   "metadata": {},
   "source": [
    "This gives us our sensor model. The model has the form:\n",
    "$$\n",
    "\\begin{bmatrix}\n",
    "{m_1}_x \\\\ \n",
    "{m_1}_y \\\\ \n",
    "{m_1}_z \\\\ \n",
    "{m_2}_x \\\\ \n",
    "{m_2}_y \\\\ \n",
    "{m_2}_z \\\\\n",
    "{m_3}_x \\\\ \n",
    "{m_3}_y \\\\ \n",
    "{m_3}_z \\\\ \n",
    "{m_4}_x \\\\ \n",
    "{m_4}_y \\\\ \n",
    "{m_4}_z \\\\\n",
    "\\end{bmatrix}= g(p_x, p_y, p_z, \\phi, \\theta, \\psi),\n",
    "$$\n",
    "where ${m_i}_j$ is the $j$ coordinate of the $i$th marker in world coordinates. Here is the function $g$:"
   ]
  },
  {
   "cell_type": "code",
   "execution_count": 20,
   "id": "ab7600c0-86dc-4060-a57b-e2d3e3e22981",
   "metadata": {},
   "outputs": [
    {
     "data": {
      "text/latex": [
       "$\\displaystyle \\left[\\begin{matrix}p_{x} + 0.0469 \\sin{\\left(\\phi \\right)} \\sin{\\left(\\psi \\right)} + 0.0469 \\sin{\\left(\\theta \\right)} \\cos{\\left(\\phi \\right)} \\cos{\\left(\\psi \\right)} + 0.25 \\cos{\\left(\\psi \\right)} \\cos{\\left(\\theta \\right)}\\\\p_{y} - 0.0469 \\sin{\\left(\\phi \\right)} \\cos{\\left(\\psi \\right)} + 0.0469 \\sin{\\left(\\psi \\right)} \\sin{\\left(\\theta \\right)} \\cos{\\left(\\phi \\right)} + 0.25 \\sin{\\left(\\psi \\right)} \\cos{\\left(\\theta \\right)}\\\\p_{z} - 0.25 \\sin{\\left(\\theta \\right)} + 0.0469 \\cos{\\left(\\phi \\right)} \\cos{\\left(\\theta \\right)}\\\\p_{x} + 0.0469 \\sin{\\left(\\phi \\right)} \\sin{\\left(\\psi \\right)} + 0.25 \\sin{\\left(\\phi \\right)} \\sin{\\left(\\theta \\right)} \\cos{\\left(\\psi \\right)} - 0.25 \\sin{\\left(\\psi \\right)} \\cos{\\left(\\phi \\right)} + 0.0469 \\sin{\\left(\\theta \\right)} \\cos{\\left(\\phi \\right)} \\cos{\\left(\\psi \\right)}\\\\p_{y} + 0.25 \\sin{\\left(\\phi \\right)} \\sin{\\left(\\psi \\right)} \\sin{\\left(\\theta \\right)} - 0.0469 \\sin{\\left(\\phi \\right)} \\cos{\\left(\\psi \\right)} + 0.0469 \\sin{\\left(\\psi \\right)} \\sin{\\left(\\theta \\right)} \\cos{\\left(\\phi \\right)} + 0.25 \\cos{\\left(\\phi \\right)} \\cos{\\left(\\psi \\right)}\\\\p_{z} + 0.25 \\sin{\\left(\\phi \\right)} \\cos{\\left(\\theta \\right)} + 0.0469 \\cos{\\left(\\phi \\right)} \\cos{\\left(\\theta \\right)}\\\\p_{x} + 0.0469 \\sin{\\left(\\phi \\right)} \\sin{\\left(\\psi \\right)} + 0.0469 \\sin{\\left(\\theta \\right)} \\cos{\\left(\\phi \\right)} \\cos{\\left(\\psi \\right)} - 0.25 \\cos{\\left(\\psi \\right)} \\cos{\\left(\\theta \\right)}\\\\p_{y} - 0.0469 \\sin{\\left(\\phi \\right)} \\cos{\\left(\\psi \\right)} + 0.0469 \\sin{\\left(\\psi \\right)} \\sin{\\left(\\theta \\right)} \\cos{\\left(\\phi \\right)} - 0.25 \\sin{\\left(\\psi \\right)} \\cos{\\left(\\theta \\right)}\\\\p_{z} + 0.25 \\sin{\\left(\\theta \\right)} + 0.0469 \\cos{\\left(\\phi \\right)} \\cos{\\left(\\theta \\right)}\\\\p_{x} + 0.0469 \\sin{\\left(\\phi \\right)} \\sin{\\left(\\psi \\right)} - 0.25 \\sin{\\left(\\phi \\right)} \\sin{\\left(\\theta \\right)} \\cos{\\left(\\psi \\right)} + 0.25 \\sin{\\left(\\psi \\right)} \\cos{\\left(\\phi \\right)} + 0.0469 \\sin{\\left(\\theta \\right)} \\cos{\\left(\\phi \\right)} \\cos{\\left(\\psi \\right)}\\\\p_{y} - 0.25 \\sin{\\left(\\phi \\right)} \\sin{\\left(\\psi \\right)} \\sin{\\left(\\theta \\right)} - 0.0469 \\sin{\\left(\\phi \\right)} \\cos{\\left(\\psi \\right)} + 0.0469 \\sin{\\left(\\psi \\right)} \\sin{\\left(\\theta \\right)} \\cos{\\left(\\phi \\right)} - 0.25 \\cos{\\left(\\phi \\right)} \\cos{\\left(\\psi \\right)}\\\\p_{z} - 0.25 \\sin{\\left(\\phi \\right)} \\cos{\\left(\\theta \\right)} + 0.0469 \\cos{\\left(\\phi \\right)} \\cos{\\left(\\theta \\right)}\\end{matrix}\\right]$"
      ],
      "text/plain": [
       "⎡              pₓ + 0.0469⋅sin(φ)⋅sin(ψ) + 0.0469⋅sin(θ)⋅cos(φ)⋅cos(ψ) + 0.25⋅ ↪\n",
       "⎢                                                                              ↪\n",
       "⎢              p_y - 0.0469⋅sin(φ)⋅cos(ψ) + 0.0469⋅sin(ψ)⋅sin(θ)⋅cos(φ) + 0.25 ↪\n",
       "⎢                                                                              ↪\n",
       "⎢                                p_z - 0.25⋅sin(θ) + 0.0469⋅cos(φ)⋅cos(θ)      ↪\n",
       "⎢                                                                              ↪\n",
       "⎢pₓ + 0.0469⋅sin(φ)⋅sin(ψ) + 0.25⋅sin(φ)⋅sin(θ)⋅cos(ψ) - 0.25⋅sin(ψ)⋅cos(φ) +  ↪\n",
       "⎢                                                                              ↪\n",
       "⎢p_y + 0.25⋅sin(φ)⋅sin(ψ)⋅sin(θ) - 0.0469⋅sin(φ)⋅cos(ψ) + 0.0469⋅sin(ψ)⋅sin(θ) ↪\n",
       "⎢                                                                              ↪\n",
       "⎢                             p_z + 0.25⋅sin(φ)⋅cos(θ) + 0.0469⋅cos(φ)⋅cos(θ)  ↪\n",
       "⎢                                                                              ↪\n",
       "⎢              pₓ + 0.0469⋅sin(φ)⋅sin(ψ) + 0.0469⋅sin(θ)⋅cos(φ)⋅cos(ψ) - 0.25⋅ ↪\n",
       "⎢                                                                              ↪\n",
       "⎢              p_y - 0.0469⋅sin(φ)⋅cos(ψ) + 0.0469⋅sin(ψ)⋅sin(θ)⋅cos(φ) - 0.25 ↪\n",
       "⎢                                                                              ↪\n",
       "⎢                                p_z + 0.25⋅sin(θ) + 0.0469⋅cos(φ)⋅cos(θ)      ↪\n",
       "⎢                                                                              ↪\n",
       "⎢pₓ + 0.0469⋅sin(φ)⋅sin(ψ) - 0.25⋅sin(φ)⋅sin(θ)⋅cos(ψ) + 0.25⋅sin(ψ)⋅cos(φ) +  ↪\n",
       "⎢                                                                              ↪\n",
       "⎢p_y - 0.25⋅sin(φ)⋅sin(ψ)⋅sin(θ) - 0.0469⋅sin(φ)⋅cos(ψ) + 0.0469⋅sin(ψ)⋅sin(θ) ↪\n",
       "⎢                                                                              ↪\n",
       "⎣                             p_z - 0.25⋅sin(φ)⋅cos(θ) + 0.0469⋅cos(φ)⋅cos(θ)  ↪\n",
       "\n",
       "↪ cos(ψ)⋅cos(θ)               ⎤\n",
       "↪                             ⎥\n",
       "↪ ⋅sin(ψ)⋅cos(θ)              ⎥\n",
       "↪                             ⎥\n",
       "↪                             ⎥\n",
       "↪                             ⎥\n",
       "↪ 0.0469⋅sin(θ)⋅cos(φ)⋅cos(ψ) ⎥\n",
       "↪                             ⎥\n",
       "↪ ⋅cos(φ) + 0.25⋅cos(φ)⋅cos(ψ)⎥\n",
       "↪                             ⎥\n",
       "↪                             ⎥\n",
       "↪                             ⎥\n",
       "↪ cos(ψ)⋅cos(θ)               ⎥\n",
       "↪                             ⎥\n",
       "↪ ⋅sin(ψ)⋅cos(θ)              ⎥\n",
       "↪                             ⎥\n",
       "↪                             ⎥\n",
       "↪                             ⎥\n",
       "↪ 0.0469⋅sin(θ)⋅cos(φ)⋅cos(ψ) ⎥\n",
       "↪                             ⎥\n",
       "↪ ⋅cos(φ) - 0.25⋅cos(φ)⋅cos(ψ)⎥\n",
       "↪                             ⎥\n",
       "↪                             ⎦"
      ]
     },
     "execution_count": 20,
     "metadata": {},
     "output_type": "execute_result"
    }
   ],
   "source": [
    "sym.N(g,3)"
   ]
  },
  {
   "cell_type": "code",
   "execution_count": null,
   "id": "4d3831ba-fec6-4106-9f0b-ebb3dce3b148",
   "metadata": {},
   "outputs": [],
   "source": []
  }
 ],
 "metadata": {
  "kernelspec": {
   "display_name": "Python 3 (ipykernel)",
   "language": "python",
   "name": "python3"
  },
  "language_info": {
   "codemirror_mode": {
    "name": "ipython",
    "version": 3
   },
   "file_extension": ".py",
   "mimetype": "text/x-python",
   "name": "python",
   "nbconvert_exporter": "python",
   "pygments_lexer": "ipython3",
   "version": "3.13.0"
  }
 },
 "nbformat": 4,
 "nbformat_minor": 5
}
